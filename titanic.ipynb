{
 "cells": [
  {
   "cell_type": "markdown",
   "metadata": {},
   "source": [
    "# Titanic"
   ]
  },
  {
   "cell_type": "code",
   "execution_count": 1,
   "metadata": {},
   "outputs": [],
   "source": [
    "import pandas as pd\n",
    "import numpy as np\n",
    "import matplotlib.pyplot as plt\n",
    "import re\n",
    "\n",
    "%matplotlib inline"
   ]
  },
  {
   "cell_type": "code",
   "execution_count": 23,
   "metadata": {},
   "outputs": [],
   "source": [
    "train=pd.read_csv(\"/Users/apple/Desktop/titanic/train.csv\")\n",
    "test=pd.read_csv(\"/Users/apple/Desktop/titanic/test.csv\")"
   ]
  },
  {
   "cell_type": "code",
   "execution_count": 24,
   "metadata": {},
   "outputs": [],
   "source": [
    "# Cabin\n",
    "train.loc[~train[\"Cabin\"].isnull(), \"Cabin\"]=1\n",
    "train.loc[train[\"Cabin\"].isnull(), \"Cabin\"]=0\n",
    "\n",
    "test.loc[~train[\"Cabin\"].isnull(), \"Cabin\"]=1\n",
    "test.loc[train[\"Cabin\"].isnull(), \"Cabin\"]=0"
   ]
  },
  {
   "cell_type": "code",
   "execution_count": 25,
   "metadata": {},
   "outputs": [],
   "source": [
    "# Sex\n",
    "train.loc[train[\"Sex\"]==\"male\", \"Sex\"]=1\n",
    "train.loc[train[\"Sex\"]==\"female\", \"Sex\"]=0\n",
    "\n",
    "test.loc[test[\"Sex\"]==\"male\", \"Sex\"]=1\n",
    "test.loc[test[\"Sex\"]==\"female\", \"Sex\"]=0"
   ]
  },
  {
   "cell_type": "code",
   "execution_count": 26,
   "metadata": {},
   "outputs": [],
   "source": [
    "# Name\n",
    "def title(name):\n",
    "    x = re.search(',', name).start()\n",
    "    y = re.search('\\.', name).start()\n",
    "    return name[x+2:y]\n",
    "\n",
    "train[\"Title\"]=train['Name'].apply(title)\n",
    "train=train.drop(\"Name\", axis=1)\n",
    "\n",
    "test[\"Title\"]=test['Name'].apply(title)\n",
    "test=test.drop(\"Name\", axis=1)"
   ]
  },
  {
   "cell_type": "code",
   "execution_count": 27,
   "metadata": {},
   "outputs": [],
   "source": [
    "# pd.isna(train_x).sum()\n",
    "# train_x.describe()\n",
    "\n",
    "# split\n",
    "train_y=train.Survived\n",
    "train_x=train.drop([\"PassengerId\", \"Survived\", \"Ticket\"], axis=1)\n",
    "\n",
    "test_x=test.drop([\"PassengerId\", \"Ticket\"], axis=1)"
   ]
  },
  {
   "cell_type": "code",
   "execution_count": 28,
   "metadata": {},
   "outputs": [],
   "source": [
    "# data imputation\n",
    "train_x[\"Age\"]=train_x[\"Age\"].fillna(train_x[\"Age\"].mean())\n",
    "train_x[\"Age\"]=train_x[\"Age\"].fillna(train_x.Embarked.value_counts().index[0])\n",
    "\n",
    "test_x[\"Age\"]=test_x[\"Age\"].fillna(test_x[\"Age\"].mean())\n",
    "test_x[\"Fare\"]=test_x[\"Fare\"].fillna(test_x[\"Fare\"].mean())\n",
    "\n",
    "# categorical variable\n",
    "def help1(arg):\n",
    "    if arg not in [\"Mr\", \"Mrs\", \"Miss\", \"Master\"]:\n",
    "        return \"Unknown\"\n",
    "    else:\n",
    "        return arg\n",
    "\n",
    "train_x.Title=train_x.Title.apply(help1)\n",
    "test_x.Title=test_x.Title.apply(help1)\n",
    "\n",
    "train_x=pd.get_dummies(train_x, columns=[\"Pclass\", \"Embarked\", \"Title\"])\n",
    "test_x=pd.get_dummies(test_x, columns=[\"Pclass\", \"Embarked\", \"Title\"])\n",
    "\n",
    "#train_x.Pclass=train_x.Pclass.astype(\"category\")\n",
    "#train_x.Sex=train_x.Sex.astype(\"category\")\n",
    "#train_x.Embarked=train_x.Embarked.astype(\"category\")\n",
    "#train_x.Title=train_x.Title.astype(\"category\")\n",
    "\n",
    "#test_x.Pclass=test_x.Pclass.astype(\"category\")\n",
    "#test_x.Sex=test_x.Sex.astype(\"category\")\n",
    "#test_x.Embarked=test_x.Embarked.astype(\"category\")\n",
    "#test_x.Title=test_x.Title.astype(\"category\")"
   ]
  },
  {
   "cell_type": "code",
   "execution_count": 29,
   "metadata": {},
   "outputs": [],
   "source": [
    "# Age\n",
    "test_x.Age=(test_x.Age-min(train_x.Age))/(max(train_x.Age)-min(train_x.Age))\n",
    "train_x.Age=(train_x.Age-min(train_x.Age))/(max(train_x.Age)-min(train_x.Age))"
   ]
  },
  {
   "cell_type": "code",
   "execution_count": 30,
   "metadata": {},
   "outputs": [],
   "source": [
    "# Fare\n",
    "test_x.Fare=(test_x.Fare-min(train_x.Fare))/(max(train_x.Fare)-min(train_x.Fare))\n",
    "train_x.Fare=(train_x.Fare-min(train_x.Fare))/(max(train_x.Fare)-min(train_x.Fare))"
   ]
  },
  {
   "cell_type": "markdown",
   "metadata": {},
   "source": [
    "## SVM"
   ]
  },
  {
   "cell_type": "code",
   "execution_count": 35,
   "metadata": {},
   "outputs": [
    {
     "data": {
      "text/plain": [
       "[<matplotlib.lines.Line2D at 0x1a208c9828>]"
      ]
     },
     "execution_count": 35,
     "metadata": {},
     "output_type": "execute_result"
    },
    {
     "data": {
      "image/png": "[encoded data removed]",
      "text/plain": [
       "<Figure size 432x288 with 1 Axes>"
      ]
     },
     "metadata": {
      "needs_background": "light"
     },
     "output_type": "display_data"
    }
   ],
   "source": [
    "from sklearn import svm\n",
    "from sklearn.model_selection import cross_val_score\n",
    "\n",
    "cve=[]\n",
    "for i in np.arange(0.1, 1.1, 0.05):\n",
    "    cv_svm = svm.SVC(gamma=\"scale\", C=i)\n",
    "    scores = cross_val_score(cv_svm, np.asarray(train_x), np.asarray(train_y), cv=5)\n",
    "    cve.append(np.sum(scores)/len(scores))\n",
    "    \n",
    "plt.plot(np.arange(0.1, 1.1, 0.05), cve)"
   ]
  },
  {
   "cell_type": "code",
   "execution_count": 36,
   "metadata": {},
   "outputs": [],
   "source": [
    "svm_classifier=svm.SVC(gamma=\"scale\", C=0.6)\n",
    "svm_classifier.fit(np.asarray(train_x), np.asarray(train_y))\n",
    "\n",
    "svm_pred=svm_classifier.predict(np.asarray(test_x))\n",
    "np.savetxt(\"foo_svm.csv\", svm_pred, delimiter=\",\")"
   ]
  },
  {
   "cell_type": "markdown",
   "metadata": {},
   "source": [
    "## LR"
   ]
  },
  {
   "cell_type": "code",
   "execution_count": 42,
   "metadata": {},
   "outputs": [
    {
     "data": {
      "text/plain": [
       "[<matplotlib.lines.Line2D at 0x1a20f7f828>]"
      ]
     },
     "execution_count": 42,
     "metadata": {},
     "output_type": "execute_result"
    },
    {
     "data": {
      "image/png": "[encoded data removed]",
      "text/plain": [
       "<Figure size 432x288 with 1 Axes>"
      ]
     },
     "metadata": {
      "needs_background": "light"
     },
     "output_type": "display_data"
    }
   ],
   "source": [
    "from sklearn.linear_model import LogisticRegression\n",
    "\n",
    "cve=[]\n",
    "for i in np.arange(0.1, 1.1, 0.05):\n",
    "    cv_lr = LogisticRegression(random_state=0, solver='lbfgs', max_iter=500, C=i)\n",
    "    scores = cross_val_score(cv_lr, np.asarray(train_x), np.asarray(train_y), cv=5)\n",
    "    cve.append(np.sum(scores)/len(scores))\n",
    "    \n",
    "plt.plot(np.arange(0.1, 1.1, 0.05), cve)"
   ]
  },
  {
   "cell_type": "code",
   "execution_count": 43,
   "metadata": {},
   "outputs": [],
   "source": [
    "lr = LogisticRegression(random_state=0, solver='lbfgs', max_iter=500, C=0.7)\n",
    "lr.fit(np.asarray(train_x), np.asarray(train_y))\n",
    "\n",
    "lr_pred=lr.predict(test_x)\n",
    "np.savetxt(\"foo_lr.csv\", lr_pred, delimiter=\",\")"
   ]
  },
  {
   "cell_type": "markdown",
   "metadata": {},
   "source": [
    "## DT"
   ]
  },
  {
   "cell_type": "code",
   "execution_count": 50,
   "metadata": {},
   "outputs": [],
   "source": [
    "from sklearn import tree\n",
    "\n",
    "dt = tree.DecisionTreeClassifier()\n",
    "dt.fit(np.asarray(train_x), np.asarray(train_y))\n",
    "\n",
    "dt_pred=dt.predict(np.asarray(test_x))\n",
    "np.savetxt(\"foo_dt.csv\", dt_pred, delimiter=\",\")"
   ]
  },
  {
   "cell_type": "markdown",
   "metadata": {},
   "source": [
    "## RF"
   ]
  },
  {
   "cell_type": "code",
   "execution_count": 45,
   "metadata": {},
   "outputs": [
    {
     "data": {
      "text/plain": [
       "[<matplotlib.lines.Line2D at 0x1a21259c88>]"
      ]
     },
     "execution_count": 45,
     "metadata": {},
     "output_type": "execute_result"
    },
    {
     "data": {
      "image/png": "[encoded data removed]",
      "text/plain": [
       "<Figure size 432x288 with 1 Axes>"
      ]
     },
     "metadata": {
      "needs_background": "light"
     },
     "output_type": "display_data"
    }
   ],
   "source": [
    "from sklearn.ensemble import RandomForestClassifier\n",
    "\n",
    "cve=[]\n",
    "for i in np.arange(1, 20, 1):\n",
    "    cv_rf = RandomForestClassifier(n_estimators=100, max_depth=i, random_state=0)\n",
    "    scores = cross_val_score(cv_rf, np.asarray(train_x), np.asarray(train_y), cv=5)\n",
    "    cve.append(np.sum(scores)/len(scores))\n",
    "\n",
    "plt.plot(np.arange(1, 20, 1), cve)"
   ]
  },
  {
   "cell_type": "code",
   "execution_count": 46,
   "metadata": {},
   "outputs": [],
   "source": [
    "rf = RandomForestClassifier(n_estimators=100, max_depth=11, random_state=0)\n",
    "rf.fit(np.asarray(train_x), np.asarray(train_y))\n",
    "\n",
    "rf_pred=rf.predict(np.asarray(test_x))\n",
    "np.savetxt(\"foo_rf.csv\", rf_pred, delimiter=\",\")"
   ]
  },
  {
   "cell_type": "markdown",
   "metadata": {},
   "source": [
    "## AdaBoost"
   ]
  },
  {
   "cell_type": "code",
   "execution_count": 57,
   "metadata": {},
   "outputs": [
    {
     "data": {
      "text/plain": [
       "[<matplotlib.lines.Line2D at 0x1a218ebf98>]"
      ]
     },
     "execution_count": 57,
     "metadata": {},
     "output_type": "execute_result"
    },
    {
     "data": {
      "image/png": "[encoded data removed]",
      "text/plain": [
       "<Figure size 432x288 with 1 Axes>"
      ]
     },
     "metadata": {
      "needs_background": "light"
     },
     "output_type": "display_data"
    }
   ],
   "source": [
    "from sklearn import tree\n",
    "from sklearn.ensemble import AdaBoostClassifier\n",
    "\n",
    "cve=[]\n",
    "for i in np.arange(10, 200, 10):\n",
    "    base=tree.DecisionTreeClassifier(max_depth=9)\n",
    "    cv_ada = AdaBoostClassifier(n_estimators=i, base_estimator=base, random_state=0)\n",
    "    scores = cross_val_score(cv_ada, np.asarray(train_x), np.asarray(train_y), cv=5)\n",
    "    cve.append(np.sum(scores)/len(scores))\n",
    "\n",
    "plt.plot(np.arange(10, 200, 10), cve)"
   ]
  },
  {
   "cell_type": "code",
   "execution_count": 58,
   "metadata": {},
   "outputs": [],
   "source": [
    "ada = AdaBoostClassifier(n_estimators=100, base_estimator=tree.DecisionTreeClassifier(max_depth=9), random_state=0)\n",
    "ada.fit(np.asarray(train_x), np.asarray(train_y))\n",
    "\n",
    "ada_pred=ada.predict(np.asarray(test_x))\n",
    "np.savetxt(\"foo_ada.csv\", ada_pred, delimiter=\",\")"
   ]
  },
  {
   "cell_type": "markdown",
   "metadata": {},
   "source": [
    "## GB"
   ]
  },
  {
   "cell_type": "code",
   "execution_count": 63,
   "metadata": {},
   "outputs": [
    {
     "data": {
      "text/plain": [
       "[<matplotlib.lines.Line2D at 0x1a214b9080>]"
      ]
     },
     "execution_count": 63,
     "metadata": {},
     "output_type": "execute_result"
    },
    {
     "data": {
      "image/png": "[encoded data removed]",
      "text/plain": [
       "<Figure size 432x288 with 1 Axes>"
      ]
     },
     "metadata": {
      "needs_background": "light"
     },
     "output_type": "display_data"
    }
   ],
   "source": [
    "from sklearn.ensemble import GradientBoostingClassifier\n",
    "\n",
    "cve=[]\n",
    "for i in np.arange(10, 300, 10):\n",
    "    cv_gb = GradientBoostingClassifier(n_estimators=i, max_depth=4, random_state=0)\n",
    "    scores = cross_val_score(cv_gb, np.asarray(train_x), np.asarray(train_y), cv=5)\n",
    "    cve.append(np.sum(scores)/len(scores))\n",
    "\n",
    "plt.plot(np.arange(10, 300, 10), cve)"
   ]
  },
  {
   "cell_type": "code",
   "execution_count": 64,
   "metadata": {},
   "outputs": [],
   "source": [
    "gb = GradientBoostingClassifier(n_estimators=180, max_depth=4, random_state=0)\n",
    "gb.fit(np.asarray(train_x), np.asarray(train_y))\n",
    "\n",
    "gb_pred=gb.predict(np.asarray(test_x))\n",
    "np.savetxt(\"foo_gb.csv\", gb_pred, delimiter=\",\")"
   ]
  },
  {
   "cell_type": "markdown",
   "metadata": {},
   "source": [
    "## Stacking & DNN"
   ]
  },
  {
   "cell_type": "code",
   "execution_count": null,
   "metadata": {},
   "outputs": [],
   "source": [
    "import t"
   ]
  }
 ],
 "metadata": {
  "kernelspec": {
   "display_name": "Python 3",
   "language": "python",
   "name": "python3"
  },
  "language_info": {
   "codemirror_mode": {
    "name": "ipython",
    "version": 3
   },
   "file_extension": ".py",
   "mimetype": "text/x-python",
   "name": "python",
   "nbconvert_exporter": "python",
   "pygments_lexer": "ipython3",
   "version": "3.7.1"
  }
 },
 "nbformat": 4,
 "nbformat_minor": 2
}
